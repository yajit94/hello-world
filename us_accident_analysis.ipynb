{
  "nbformat": 4,
  "nbformat_minor": 0,
  "metadata": {
    "colab": {
      "provenance": []
    },
    "kernelspec": {
      "name": "python3",
      "display_name": "Python 3"
    },
    "language_info": {
      "name": "python"
    }
  },
  "cells": [
    {
      "cell_type": "code",
      "source": [
        "!apt-get install openjdk-8-jdk-headless -qq > /dev/null"
      ],
      "metadata": {
        "id": "NpDh2J1Xd2LZ"
      },
      "execution_count": 7,
      "outputs": []
    },
    {
      "cell_type": "code",
      "source": [
        "!wget -q https://archive.apache.org/dist/spark/spark-3.0.0/spark-3.0.0-bin-hadoop3.2.tgz"
      ],
      "metadata": {
        "id": "opCTCEwGeALw"
      },
      "execution_count": 8,
      "outputs": []
    },
    {
      "cell_type": "code",
      "source": [
        "!tar xf spark-3.0.0-bin-hadoop3.2.tgz"
      ],
      "metadata": {
        "id": "pYiSxofneDuE"
      },
      "execution_count": 9,
      "outputs": []
    },
    {
      "cell_type": "code",
      "source": [
        "import os\n",
        "os.environ[\"JAVA_HOME\"] = \"/usr/lib/jvm/java-8-openjdk-amd64\"\n",
        "os.environ[\"SPARK_HOME\"] = \"/content/spark-3.0.0-bin-hadoop3.2\""
      ],
      "metadata": {
        "id": "wGcdSJYrgFkf"
      },
      "execution_count": 10,
      "outputs": []
    },
    {
      "cell_type": "code",
      "source": [
        "!pip install -q findspark"
      ],
      "metadata": {
        "id": "HvGvxWsagQrm"
      },
      "execution_count": 11,
      "outputs": []
    },
    {
      "cell_type": "code",
      "source": [
        "import findspark\n",
        "findspark.init()\n",
        "from pyspark.sql import SparkSession\n",
        "spark = SparkSession.builder.master(\"local[*]\").getOrCreate()"
      ],
      "metadata": {
        "id": "3plCL3YMgZge"
      },
      "execution_count": 12,
      "outputs": []
    },
    {
      "cell_type": "code",
      "source": [
        "url = \"https://cdac-project.s3.amazonaws.com/us_accident.csv\"\n",
        "from pyspark import SparkFiles\n",
        "spark.sparkContext.addFile(url)\n",
        "df = spark.read.csv(SparkFiles.get(\"us_accident.csv\"), header=True, inferSchema= True)\n",
        "df.show(5)"
      ],
      "metadata": {
        "id": "EEgLhqlKgc5R"
      },
      "execution_count": null,
      "outputs": []
    },
    {
      "cell_type": "code",
      "source": [
        "from pyspark.sql import SparkSession, functions,types\n",
        "from timeit import default_timer as timer\n",
        "from pyspark.sql.functions import expr\n",
        "import sys, re, math, uuid, os\n"
      ],
      "metadata": {
        "id": "W0sCd9n1jcbe"
      },
      "execution_count": 21,
      "outputs": []
    },
    {
      "cell_type": "code",
      "source": [
        "import seaborn as sns\n",
        "from matplotlib import pyplot as plt"
      ],
      "metadata": {
        "id": "ExCQvUFQmGqQ"
      },
      "execution_count": 26,
      "outputs": []
    },
    {
      "cell_type": "code",
      "source": [
        "# TOTAL ACCIDENT REPORTS(2016 - 2020)\n",
        "total_states = df.groupBy('State').agg(functions.count(functions.lit(1)).alias('Total')).sort('Total',ascending=False)\n",
        "print(total_states.show(10))\n",
        "# total_states['State'] = total_states.index\n",
        "total_states.write.csv('total_accident.csv')\n"
      ],
      "metadata": {
        "id": "seAxCa6Bj6P3"
      },
      "execution_count": null,
      "outputs": []
    },
    {
      "cell_type": "code",
      "source": [
        "fig, ax = plt.subplots(figsize=(19.7,10.27))\n",
        "sns.barplot(x = \"State\", y = \"Total\", data = total_states.toPandas())"
      ],
      "metadata": {
        "id": "K13G_GKKs8b-"
      },
      "execution_count": null,
      "outputs": []
    },
    {
      "cell_type": "code",
      "source": [
        "#ACCIDENT BY SEVERITIES (LOW TO HIGH)\n",
        "lth= df.groupBy('State','Severity').agg(functions.count(functions.lit(1)).alias('Total Severity')).sort('Severity',ascending=False)\n",
        "print(lth.show(10))\n",
        "\n",
        "# total_states.coalesce(1).write.csv(f'{output_path}/Graph{count}', header=True, mode='overwrite')\n",
        "# lth.coalesce(1).write.csv('mycsv1.csv')"
      ],
      "metadata": {
        "colab": {
          "base_uri": "https://localhost:8080/"
        },
        "id": "k8LGDaq1kM31",
        "outputId": "e58458d6-db20-4568-c20a-86ed51465b6f"
      },
      "execution_count": 79,
      "outputs": [
        {
          "output_type": "stream",
          "name": "stdout",
          "text": [
            "+-----+--------+--------------+\n",
            "|State|Severity|Total Severity|\n",
            "+-----+--------+--------------+\n",
            "|   LA|       4|          1184|\n",
            "|   NJ|       4|          4392|\n",
            "|   CA|       4|          9135|\n",
            "|   TN|       4|          2096|\n",
            "|   NV|       4|           517|\n",
            "|   UT|       4|          1352|\n",
            "|   SD|       4|            44|\n",
            "|   CO|       4|          4206|\n",
            "|   MT|       4|           248|\n",
            "|   RI|       4|           111|\n",
            "+-----+--------+--------------+\n",
            "only showing top 10 rows\n",
            "\n",
            "None\n"
          ]
        }
      ]
    },
    {
      "cell_type": "code",
      "source": [
        "# ACCIDENT COUNT PER YEAR\n",
        "year_df = df.select('State', (functions.year(functions.to_timestamp(\"Start_Time\"))).alias('year')).groupBy(\n",
        "        'year').agg(functions.count(functions.lit(1))).sort('year')\n",
        "print(year_df.show(10))\n",
        "fig, ax = plt.subplots(figsize=(19.7,10.27))\n",
        "sns.lineplot(x = \"year\", y = \"count(1)\", data = year_df.toPandas())"
      ],
      "metadata": {
        "id": "KOyv4Gj6lPkC"
      },
      "execution_count": null,
      "outputs": []
    },
    {
      "cell_type": "code",
      "source": [
        "# ACCIDENT COUNT BY MONTH\n",
        "month_df = df.select('State', (functions.month(functions.to_timestamp(\"Start_Time\"))).alias('month')).groupBy(\n",
        "        'month').agg((functions.count(functions.lit(1))).alias('total_accidents')).sort('month')\n",
        "print(month_df.show(10))\n",
        "fig, ax = plt.subplots(figsize=(19.7,10.27))\n",
        "sns.lineplot(x = \"month\", y = \"total_accidents\", data = month_df.toPandas())"
      ],
      "metadata": {
        "id": "Ewil3i02wWTA"
      },
      "execution_count": null,
      "outputs": []
    },
    {
      "cell_type": "code",
      "source": [
        "# ACCIDENT COUNT BY DAY OF THE WEEK\n",
        "weekday_df = df.select((functions.dayofweek(functions.to_timestamp(\"Start_Time\"))).alias('week_day')).groupBy(\n",
        "        'week_day').agg((functions.count(functions.lit(1))).alias('total_accidents')).sort('week_day')\n",
        "print(weekday_df.show(10))\n",
        "fig, ax = plt.subplots(figsize=(19.7,10.27))\n",
        "sns.lineplot(x = \"week_day\", y = \"total_accidents\", data = weekday_df.toPandas())"
      ],
      "metadata": {
        "id": "mXQPihOLxNQd"
      },
      "execution_count": null,
      "outputs": []
    },
    {
      "cell_type": "code",
      "source": [
        " # ACCIDENT COUNT BY HOUR\n",
        "hour_df = df.select((functions.hour(functions.to_timestamp(\"Start_Time\"))).alias('hour_df')).groupBy('hour_df')\\\n",
        "        .agg((functions.count(functions.lit(1))).alias('total_accidents')).sort('hour_df')\n",
        "print(hour_df.show(50))\n",
        "fig, ax = plt.subplots(figsize=(19.7,10.27))\n",
        "sns.lineplot(x = \"hour_df\", y = \"total_accidents\", data = hour_df.toPandas())"
      ],
      "metadata": {
        "id": "EEZ9TR_KyA-S"
      },
      "execution_count": null,
      "outputs": []
    },
    {
      "cell_type": "code",
      "source": [
        "# ACCIDENTS DUE TO TOP 10 WEATHER CONDITIONS\n",
        "weather_df = df.filter(df['Weather_Condition'].isNotNull())\n",
        "#FINDING THE WEATHER CONDITION WHICH CAUSED HIGHEST NUMBER OF ACCIDENTS\n",
        "weather_df = weather_df.groupBy('Weather_Condition').agg(functions.count(functions.lit(1)).alias('top_weather')).sort('top_weather',ascending=False)\n",
        "# print(weather_df.show())\n",
        "top_10_weather = df.where(expr(\"Weather_Condition = 'Fair' or Weather_Condition= 'Clear' or Weather_Condition= 'Mostly Cloudy' or Weather_Condition= 'Overcast'\"\n",
        "                                \"or Weather_Condition= 'Partly Cloudy' or Weather_Condition= 'Cloudy' or Weather_Condition= 'Scattered Clouds' or Weather_Condition= 'Light Rain' \"\n",
        "                                \"or Weather_Condition= 'Light Snow' or Weather_Condition= 'Rain'\"))\n",
        "#REFORMATTING THE DATE IN THIS FORMAT DAY/MONTH FOR PLOTTING PURPOSES\n",
        "@functions.udf(returnType=types.StringType())\n",
        "def date_reformat(month):\n",
        "    month = f\"1-{month}\"\n",
        "    return month\n",
        "top_10_weather = top_10_weather.groupBy(functions.year(functions.to_timestamp(\"Start_Time\")).alias('year'),\n",
        "                                        functions.month(functions.to_timestamp(\"Start_Time\")).alias('month'),'Weather_Condition')\\\n",
        "    .agg(functions.count(functions.lit(1)).alias('weather_acc')).sort('year','month')\n",
        "\n",
        "top_10_weather = top_10_weather.withColumn('month', date_reformat(top_10_weather['month']))\n",
        "top_10_weather=top_10_weather.select('Weather_Condition','weather_acc',functions.concat(functions.col('month'),functions.lit(\"-\"),\n",
        "                                                                                        functions.col('year')).alias('mon_year'))\n",
        "print(top_10_weather.show(5))\n",
        "fig, ax = plt.subplots(figsize=(19.7,10.27))\n",
        "sns.barplot(x = \"Weather_Condition\", y = \"weather_acc\", data = top_10_weather.toPandas())"
      ],
      "metadata": {
        "colab": {
          "base_uri": "https://localhost:8080/",
          "height": 843
        },
        "id": "IqAFCaeG3V4P",
        "outputId": "1e840f59-860b-4462-d756-375dab25a0ba"
      },
      "execution_count": 69,
      "outputs": [
        {
          "output_type": "stream",
          "name": "stdout",
          "text": [
            "+-----------------+-----------+--------+\n",
            "|Weather_Condition|weather_acc|mon_year|\n",
            "+-----------------+-----------+--------+\n",
            "|             Fair|          7|1-1-2016|\n",
            "|    Mostly Cloudy|         53|1-2-2016|\n",
            "|         Overcast|        190|1-2-2016|\n",
            "|           Cloudy|          2|1-2-2016|\n",
            "|       Light Snow|         97|1-2-2016|\n",
            "+-----------------+-----------+--------+\n",
            "only showing top 5 rows\n",
            "\n",
            "None\n"
          ]
        },
        {
          "output_type": "execute_result",
          "data": {
            "text/plain": [
              "<matplotlib.axes._subplots.AxesSubplot at 0x7f59ca50dc10>"
            ]
          },
          "metadata": {},
          "execution_count": 69
        },
        {
          "output_type": "display_data",
          "data": {
            "text/plain": [
              "<Figure size 1418.4x739.44 with 1 Axes>"
            ],
            "image/png": "[encoded data removed]"
          },
          "metadata": {}
        }
      ]
    },
    {
      "cell_type": "code",
      "source": [
        "# AGGREGATED MONTHLY ACCIDENTS IN TOP TWENTY CITIES\n",
        "import calendar\n",
        "#GETTING NAME OF THE MONTH FROM THE MONTH NUMBER\n",
        "@functions.udf(returnType=types.StringType())\n",
        "def get_month_name(month):\n",
        "    return calendar.month_name[month]\n",
        "\n",
        "#FIND THE CITIES WITH HIGHEST NUMBER OF ACCIDENTS\n",
        "top_20_cities = df.groupBy('City').agg(functions.count(functions.lit(1)).alias('Acccount')).sort('Acccount',\n",
        "                                                                                                    ascending=False)\n",
        "# print(top_20_cities.show())\n",
        "top_20_cities = df.where(expr(\n",
        "    \"City = 'Houston' or City= 'Los Angeles' or City= 'Charlotte' or City= 'Dallas'\"\n",
        "    \"or City= 'Austin' or City= 'Raleigh' or City= 'Atlanta' or City= 'Oklahoma City' \"\n",
        "    \"or City= 'Miami' or City= 'Baton Rouge' or City = 'Nashville' or City= 'Sacramento' or City= 'Orlando' or City= 'Phoenix'\"\n",
        "    \"or City= 'Minneapolis' or City= 'Seattle' or City= 'San Diego' or City= 'San Antonio' \"\n",
        "    \"or City= 'Richmond' or City= 'San Jose' \"))\n",
        "top_20_cities = top_20_cities.groupBy(functions.month(functions.to_timestamp(\"Start_Time\")).alias('month'), 'City') \\\n",
        "    .agg(functions.count(functions.lit(1)).alias('total_acc')).sort('month')\n",
        "top_20_cities = top_20_cities.withColumn('month', get_month_name(top_20_cities['month']))\n",
        "print(top_20_cities.show(10))\n",
        "\n",
        "fig, ax = plt.subplots(figsize=(25,9))\n",
        "sns.barplot(x = \"City\", y = \"total_acc\", data = top_20_cities.toPandas())"
      ],
      "metadata": {
        "colab": {
          "base_uri": "https://localhost:8080/",
          "height": 755
        },
        "id": "3kIYQIOm6SHu",
        "outputId": "db66a76d-445d-420f-d189-f060881dbee1"
      },
      "execution_count": 74,
      "outputs": [
        {
          "output_type": "stream",
          "name": "stdout",
          "text": [
            "+-------+-----------+---------+\n",
            "|  month|       City|total_acc|\n",
            "+-------+-----------+---------+\n",
            "|January|      Miami|     6245|\n",
            "|January|    Houston|     2896|\n",
            "|January|   Richmond|      699|\n",
            "|January|     Dallas|     3040|\n",
            "|January|San Antonio|      699|\n",
            "|January|    Raleigh|     1288|\n",
            "|January|     Austin|     1132|\n",
            "|January|  Charlotte|     1884|\n",
            "|January|  Nashville|     1085|\n",
            "|January|   San Jose|     1221|\n",
            "+-------+-----------+---------+\n",
            "only showing top 10 rows\n",
            "\n",
            "None\n"
          ]
        },
        {
          "output_type": "execute_result",
          "data": {
            "text/plain": [
              "<matplotlib.axes._subplots.AxesSubplot at 0x7f59c8a1c410>"
            ]
          },
          "metadata": {},
          "execution_count": 74
        },
        {
          "output_type": "display_data",
          "data": {
            "text/plain": [
              "<Figure size 1800x648 with 1 Axes>"
            ],
            "image/png": "[encoded data removed]"
          },
          "metadata": {}
        }
      ]
    },
    {
      "cell_type": "code",
      "source": [
        "# LOW SEVERITY ACCIDENTS DUE TO LOW VISIBILITY\n",
        "# HIGH SEVERITY ACCIDENTS DUE TO LOW VISIBILITY\n",
        "visibility_df = df.filter(df['Visibility(mi)'].isNotNull()).where((df['Visibility(mi)']<=5.0) & ((df['Severity'] ==\"1\") | (df['Severity']==\"2\")))\n",
        "visibility_df= visibility_df.groupBy('State').agg(functions.count(functions.lit(1))\n",
        "                                                                        .alias('Low Severity Accidents due to Low visibility')).sort('Low Severity Accidents due to Low visibility',ascending=False)\n",
        "visibility_df=visibility_df.withColumnRenamed('State','States')\n",
        "# print(visibility_df.show())\n",
        "high_sev_lowviz = df.filter(df['Visibility(mi)'].isNotNull()).where((df['Visibility(mi)']<=5.0) & ((df['Severity'] ==\"3\") | (df['Severity']==\"4\")))\n",
        "high_sev_lowviz = high_sev_lowviz.groupBy('State').agg(functions.count(functions.lit(1))\n",
        "                                                                        .alias('High Severity Accidents due to Low visibility')).sort('High Severity Accidents due to Low visibility',ascending=False).cache()\n",
        "# print(high_sev_lowviz.show())\n",
        "\n",
        "joined_df = visibility_df.join(functions.broadcast(high_sev_lowviz),[visibility_df['States']==high_sev_lowviz['State']])\n",
        "joined_df= joined_df.drop('State')\n",
        "print(joined_df.show(10))"
      ],
      "metadata": {
        "colab": {
          "base_uri": "https://localhost:8080/"
        },
        "id": "i7qZv4bSKsKj",
        "outputId": "1ff5d8d6-4c0d-4ee2-c545-dc112cf3e3d4"
      },
      "execution_count": 75,
      "outputs": [
        {
          "output_type": "stream",
          "name": "stdout",
          "text": [
            "+------+--------------------------------------------+---------------------------------------------+\n",
            "|States|Low Severity Accidents due to Low visibility|High Severity Accidents due to Low visibility|\n",
            "+------+--------------------------------------------+---------------------------------------------+\n",
            "|    SC|                                        7671|                                          263|\n",
            "|    AZ|                                         653|                                           82|\n",
            "|    LA|                                        3353|                                          238|\n",
            "|    MN|                                       18484|                                          568|\n",
            "|    NJ|                                        5208|                                          926|\n",
            "|    DC|                                         357|                                           48|\n",
            "|    OR|                                       16210|                                          962|\n",
            "|    VA|                                        7657|                                         1089|\n",
            "|    RI|                                         471|                                           92|\n",
            "|    KY|                                         583|                                          154|\n",
            "+------+--------------------------------------------+---------------------------------------------+\n",
            "only showing top 10 rows\n",
            "\n",
            "None\n"
          ]
        }
      ]
    }
  ]
}